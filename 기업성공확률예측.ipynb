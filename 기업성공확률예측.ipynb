{
 "cells": [
  {
   "cell_type": "code",
   "execution_count": 1,
   "id": "c71d3577",
   "metadata": {},
   "outputs": [],
   "source": [
    "import pandas as pd\n",
    "import matplotlib as mpl\n",
    "import platform\n",
    "import warnings\n",
    "import numpy as np\n",
    "import re"
   ]
  },
  {
   "cell_type": "code",
   "execution_count": 2,
   "id": "4b6a456b",
   "metadata": {},
   "outputs": [],
   "source": [
    "warnings.filterwarnings(\"ignore\")"
   ]
  },
  {
   "cell_type": "code",
   "execution_count": 3,
   "id": "0ca3e47d",
   "metadata": {},
   "outputs": [],
   "source": [
    "# 한글 깨짐 방지 코드\n",
    "if platform.system() == 'Windows':\n",
    "    # Windows의 경우 'Malgun Gothic'을 많이 사용합니다.\n",
    "    mpl.rcParams['font.family'] = 'Malgun Gothic'\n",
    "elif platform.system() == 'Darwin':\n",
    "    # macOS의 경우 'AppleGothic'을 사용하거나, 설치된 한글 폰트를 선택합니다.\n",
    "    mpl.rcParams['font.family'] = 'AppleGothic'\n",
    "else:\n",
    "    # Linux의 경우 'NanumGothic' 등 한글 지원 폰트를 사용할 수 있습니다.\n",
    "    mpl.rcParams['font.family'] = 'NanumGothic'"
   ]
  },
  {
   "cell_type": "code",
   "execution_count": 4,
   "id": "ad51bdb8",
   "metadata": {},
   "outputs": [],
   "source": [
    "train = pd.read_csv('data/train.csv')\n",
    "test = pd.read_csv('data/test.csv')"
   ]
  },
  {
   "cell_type": "markdown",
   "id": "41170ad1",
   "metadata": {},
   "source": [
    "### 1 info() 결과\n",
    "1.1 train info() 결과\n",
    "- primary key = ID\n",
    "- 범주형 변수 : 국가, 분야, 투자단계, 인수여부, 상장여부, 기업가치(백억원)\n",
    "- null값 존재 변수 : 분야, 직원 수, 고객수(백만명), 기업가치(백억원)\n",
    "- target 변수 : 성공확률\n",
    "- 모델 돌릴때 null값 처리하고 범주형 변수 처리하고 ID, 성공확률 컬럼 제거\n",
    "### \n",
    "1.2 test info() 결과\n",
    "- primary key = ID\n",
    "- null값 존재 컬럼 : 분야, 직원 수, 고객수(백만명), 기업가치(백억원)\n",
    "- 범주형 변수 : 국가, 분야, 투자단계, 인수여부, 상장여부, 기업가치(백억원)"
   ]
  },
  {
   "cell_type": "code",
   "execution_count": 5,
   "id": "fae7e844",
   "metadata": {},
   "outputs": [
    {
     "name": "stdout",
     "output_type": "stream",
     "text": [
      "<class 'pandas.core.frame.DataFrame'>\n",
      "RangeIndex: 4376 entries, 0 to 4375\n",
      "Data columns (total 14 columns):\n",
      " #   Column          Non-Null Count  Dtype  \n",
      "---  ------          --------------  -----  \n",
      " 0   ID              4376 non-null   object \n",
      " 1   설립연도            4376 non-null   int64  \n",
      " 2   국가              4376 non-null   object \n",
      " 3   분야              3519 non-null   object \n",
      " 4   투자단계            4376 non-null   object \n",
      " 5   직원 수            4202 non-null   float64\n",
      " 6   인수여부            4376 non-null   object \n",
      " 7   상장여부            4376 non-null   object \n",
      " 8   고객수(백만명)        3056 non-null   float64\n",
      " 9   총 투자금(억원)       4376 non-null   float64\n",
      " 10  연매출(억원)         4376 non-null   float64\n",
      " 11  SNS 팔로워 수(백만명)  4376 non-null   float64\n",
      " 12  기업가치(백억원)       3156 non-null   object \n",
      " 13  성공확률            4376 non-null   float64\n",
      "dtypes: float64(6), int64(1), object(7)\n",
      "memory usage: 478.8+ KB\n"
     ]
    }
   ],
   "source": [
    "train.info()"
   ]
  },
  {
   "cell_type": "code",
   "execution_count": 6,
   "id": "4e12c76e",
   "metadata": {},
   "outputs": [
    {
     "name": "stdout",
     "output_type": "stream",
     "text": [
      "<class 'pandas.core.frame.DataFrame'>\n",
      "RangeIndex: 1755 entries, 0 to 1754\n",
      "Data columns (total 13 columns):\n",
      " #   Column          Non-Null Count  Dtype  \n",
      "---  ------          --------------  -----  \n",
      " 0   ID              1755 non-null   object \n",
      " 1   설립연도            1755 non-null   int64  \n",
      " 2   국가              1755 non-null   object \n",
      " 3   분야              1401 non-null   object \n",
      " 4   투자단계            1755 non-null   object \n",
      " 5   직원 수            1679 non-null   float64\n",
      " 6   인수여부            1755 non-null   object \n",
      " 7   상장여부            1755 non-null   object \n",
      " 8   고객수(백만명)        1208 non-null   float64\n",
      " 9   총 투자금(억원)       1755 non-null   float64\n",
      " 10  연매출(억원)         1755 non-null   float64\n",
      " 11  SNS 팔로워 수(백만명)  1755 non-null   float64\n",
      " 12  기업가치(백억원)       1268 non-null   object \n",
      "dtypes: float64(5), int64(1), object(7)\n",
      "memory usage: 178.4+ KB\n"
     ]
    }
   ],
   "source": [
    "test.info()"
   ]
  },
  {
   "cell_type": "markdown",
   "id": "815056e6",
   "metadata": {},
   "source": [
    "### 2. 결측값 처리"
   ]
  },
  {
   "cell_type": "code",
   "execution_count": 400,
   "id": "6c8cd95e",
   "metadata": {},
   "outputs": [],
   "source": [
    "# train[분야] null 값 처리\n",
    "train['분야'].fillna(train['분야'].mode()[0], inplace=True)\n",
    "# test[분야] null 값 처리\n",
    "test['분야'].fillna(test['분야'].mode()[0], inplace=True)"
   ]
  },
  {
   "cell_type": "code",
   "execution_count": 401,
   "id": "7af38b41",
   "metadata": {},
   "outputs": [],
   "source": [
    "# train[고객수(백만명)] null 값 처리\n",
    "# 그룹 평균 보간: 투자단계 + 분야 기준\n",
    "train['고객수(백만명)'] = train.groupby(['투자단계', '분야'])['고객수(백만명)'].transform(\n",
    "    lambda x: x.fillna(x.mean())\n",
    ")\n",
    "\n",
    "# 혹시 그룹 평균이 NaN인 그룹이 있다면, 전체 평균으로 한 번 더 보간\n",
    "train['고객수(백만명)'].fillna(train['고객수(백만명)'].mean(), inplace=True)\n",
    "\n",
    "# test[고객수(백만명)] null 값 처리\n",
    "# 그룹 평균 보간: 투자단계 + 분야 기준\n",
    "test['고객수(백만명)'] = test.groupby(['투자단계', '분야'])['고객수(백만명)'].transform(\n",
    "    lambda x: x.fillna(x.mean())\n",
    ")\n",
    "\n",
    "# 혹시 그룹 평균이 NaN인 그룹이 있다면, 전체 평균으로 한 번 더 보간\n",
    "test['고객수(백만명)'].fillna(test['고객수(백만명)'].mean(), inplace=True)"
   ]
  },
  {
   "cell_type": "code",
   "execution_count": null,
   "id": "d816965a",
   "metadata": {},
   "outputs": [],
   "source": [
    "# train[직원 수] null 값 처리 : 평균값으로 처리, 나중에 결과 안좋을시 1인기업으로 생각해서 0으로 처리\n",
    "train['직원 수'].fillna(0, inplace=True)\n",
    "# test[직원 수] null 값 처리 : 평균값으로 처리, 나중에 결과 안좋을시 1인기업으로 생각해서 0으로 처리\n",
    "test['직원 수'].fillna(0, inplace=True)"
   ]
  },
  {
   "cell_type": "code",
   "execution_count": 9,
   "id": "7ec62b0d",
   "metadata": {},
   "outputs": [],
   "source": [
    "# 기업가치(백억원) 컬럼 null값 처리위해 숫자형 변수로 처리\n",
    "def parse_기업가치(value):\n",
    "    if pd.isnull(value):\n",
    "        return np.nan\n",
    "    elif '이상' in value:\n",
    "        # \"6000이상\" -> 숫자만 추출해서 +500\n",
    "        num = re.findall(r'\\d+', value)\n",
    "        return float(num[0]) + 500 if num else np.nan\n",
    "    elif '-' in value:\n",
    "        # \"1500-2500\" -> 평균값\n",
    "        num = re.findall(r'\\d+', value)\n",
    "        if len(num) == 2:\n",
    "            return (float(num[0]) + float(num[1])) / 2\n",
    "    return np.nan\n",
    "\n",
    "train['기업가치(백억원)'] = train['기업가치(백억원)'].apply(parse_기업가치)\n",
    "test['기업가치(백억원)'] = test['기업가치(백억원)'].apply(parse_기업가치)"
   ]
  },
  {
   "cell_type": "code",
   "execution_count": 10,
   "id": "2b5829ad",
   "metadata": {},
   "outputs": [],
   "source": [
    "# train[기업가치(백억원)] null 값 처리\n",
    "# 1. 투자단계 + 분야 기준 그룹 평균으로 보간\n",
    "train['기업가치(백억원)'] = train.groupby(['투자단계', '분야'])['기업가치(백억원)'].transform(\n",
    "    lambda x: x.fillna(x.mean())\n",
    ")\n",
    "# 2. 남은 결측치는 전체 중앙값으로 보간\n",
    "train['기업가치(백억원)'].fillna(train['기업가치(백억원)'].median(), inplace=True)\n",
    "\n",
    "# test[기업가치(백억원)] null 값 처리\n",
    "# 1. 투자단계 + 분야 기준 그룹 평균으로 보간\n",
    "test['기업가치(백억원)'] = test.groupby(['투자단계', '분야'])['기업가치(백억원)'].transform(\n",
    "    lambda x: x.fillna(x.mean())\n",
    ")\n",
    "# 2. 남은 결측치는 전체 중앙값으로 보간\n",
    "test['기업가치(백억원)'].fillna(test['기업가치(백억원)'].median(), inplace=True)"
   ]
  },
  {
   "cell_type": "markdown",
   "id": "222b50be",
   "metadata": {},
   "source": [
    "### 3. 파생변수 생각해보기"
   ]
  },
  {
   "cell_type": "code",
   "execution_count": 11,
   "id": "251d10a1",
   "metadata": {},
   "outputs": [],
   "source": [
    "# 설립연차\n",
    "train['설립연차'] = 2025 - train['설립연도']\n",
    "test['설립연차'] = 2025 - test['설립연도']"
   ]
  },
  {
   "cell_type": "code",
   "execution_count": 12,
   "id": "d7856fef",
   "metadata": {},
   "outputs": [],
   "source": [
    "# 기업 성장 속도\n",
    "train['기업가치_연차비'] = train['기업가치(백억원)'] / train['설립연차']\n",
    "test['기업가치_연차비'] = test['기업가치(백억원)'] / test['설립연차']"
   ]
  },
  {
   "cell_type": "code",
   "execution_count": 13,
   "id": "335e5af1",
   "metadata": {},
   "outputs": [],
   "source": [
    "# 투자 효율성\n",
    "train['매출_투자비'] = train['연매출(억원)'] / train['총 투자금(억원)']\n",
    "test['매출_투자비'] = test['연매출(억원)'] / test['총 투자금(억원)']"
   ]
  },
  {
   "cell_type": "code",
   "execution_count": 14,
   "id": "d22fcaf7",
   "metadata": {},
   "outputs": [],
   "source": [
    "# 브랜드 인지도 대비 실제 고객 전환율\n",
    "train['팔로워_고객비'] = train['SNS 팔로워 수(백만명)'] / train['고객수(백만명)']\n",
    "test['팔로워_고객비'] = test['SNS 팔로워 수(백만명)'] / test['고객수(백만명)']"
   ]
  },
  {
   "cell_type": "code",
   "execution_count": 15,
   "id": "1e2514ed",
   "metadata": {},
   "outputs": [],
   "source": [
    "# 이익률 = (연매출 - 총 투자금) / 연매출출\n",
    "train['이익률'] = (train['연매출(억원)'] - train['총 투자금(억원)']) / train['연매출(억원)']\n",
    "test['이익률'] = (test['연매출(억원)'] - test['총 투자금(억원)']) / test['연매출(억원)']"
   ]
  },
  {
   "cell_type": "code",
   "execution_count": 16,
   "id": "640c2aaa",
   "metadata": {},
   "outputs": [],
   "source": [
    "# 매출 성장률 = (연매출 - 이전 연매출) / 이전 연매출\n",
    "train['매출_성장률'] = train['연매출(억원)'].pct_change().fillna(0)\n",
    "test['매출_성장률'] = test['연매출(억원)'].pct_change().fillna(0)"
   ]
  },
  {
   "cell_type": "code",
   "execution_count": 17,
   "id": "4639eb1a",
   "metadata": {},
   "outputs": [],
   "source": [
    "# 총 자본 비율 = (총 투자금) / (연매출)\n",
    "train['총_자본_비율'] = train['총 투자금(억원)'] / train['연매출(억원)']\n",
    "test['총_자본_비율'] = test['총 투자금(억원)'] / test['연매출(억원)']"
   ]
  },
  {
   "cell_type": "code",
   "execution_count": 18,
   "id": "68b08bbc",
   "metadata": {},
   "outputs": [],
   "source": [
    "# 직원당_매출 = 연매출(억원) / 직원 수\n",
    "train['직원당_매출'] = train['연매출(억원)'] / train['직원 수']\n",
    "test['직원당_매출'] = test['연매출(억원)'] / test['직원 수']"
   ]
  },
  {
   "cell_type": "code",
   "execution_count": 20,
   "id": "b8c5fded",
   "metadata": {},
   "outputs": [
    {
     "data": {
      "text/plain": [
       "ID                   0\n",
       "설립연도                 0\n",
       "국가                   0\n",
       "분야                 857\n",
       "투자단계                 0\n",
       "직원 수               174\n",
       "인수여부                 0\n",
       "상장여부                 0\n",
       "고객수(백만명)          1320\n",
       "총 투자금(억원)            0\n",
       "연매출(억원)              0\n",
       "SNS 팔로워 수(백만명)       0\n",
       "기업가치(백억원)            0\n",
       "성공확률                 0\n",
       "설립연차                 0\n",
       "기업가치_연차비             0\n",
       "매출_투자비               0\n",
       "팔로워_고객비           1320\n",
       "이익률                  0\n",
       "매출_성장률               0\n",
       "총_자본_비율              0\n",
       "직원당_매출             174\n",
       "dtype: int64"
      ]
     },
     "execution_count": 20,
     "metadata": {},
     "output_type": "execute_result"
    }
   ],
   "source": [
    "train.isna().sum()"
   ]
  },
  {
   "cell_type": "markdown",
   "id": "ff2d5c2a",
   "metadata": {},
   "source": [
    "### 4. 이상치 탐지\n",
    "- 사분위수 이상치 탐지 결과: 기업가치_연차비, 매출_투자비, 팔로워_고객비 등 파생변수에서만 이상치 발생\n",
    "- 파생변수 이지만 향후 모델에 사용할 수 있으므로 정제 필요하다고 생각 -> 클리핑 요소 사용\n",
    "- 클리핑 : 값이 일정 범위를 벗어나면 그 범위의 최대/최소값으로 잘라내는 방법"
   ]
  },
  {
   "cell_type": "code",
   "execution_count": 412,
   "id": "fd960d89",
   "metadata": {},
   "outputs": [],
   "source": [
    "# IQR 방식\n",
    "def detect_outliers_iqr(df, columns):\n",
    "    outlier_info = {}\n",
    "    \n",
    "    for col in columns:\n",
    "        Q1 = df[col].quantile(0.25)\n",
    "        Q3 = df[col].quantile(0.75)\n",
    "        IQR = Q3 - Q1\n",
    "        lower = Q1 - 1.5 * IQR\n",
    "        upper = Q3 + 1.5 * IQR\n",
    "\n",
    "        outliers = df[(df[col] < lower) | (df[col] > upper)]\n",
    "        outlier_info[col] = {\n",
    "            'lower_bound': lower,\n",
    "            'upper_bound': upper,\n",
    "            'num_outliers': outliers.shape[0]\n",
    "        }\n",
    "\n",
    "    return outlier_info"
   ]
  },
  {
   "cell_type": "code",
   "execution_count": 413,
   "id": "33cbc581",
   "metadata": {},
   "outputs": [
    {
     "name": "stdout",
     "output_type": "stream",
     "text": [
      "설립연도 → 이상치 수: 0 (범위: 1988.00 ~ 2036.00)\n",
      "직원 수 → 이상치 수: 0 (범위: -2841.00 ~ 7585.00)\n",
      "고객수(백만명) → 이상치 수: 0 (범위: -0.50 ~ 99.50)\n",
      "총 투자금(억원) → 이상치 수: 0 (범위: -3233.62 ~ 9793.38)\n",
      "연매출(억원) → 이상치 수: 0 (범위: -6803.12 ~ 19589.88)\n",
      "SNS 팔로워 수(백만명) → 이상치 수: 0 (범위: -2.70 ~ 8.02)\n",
      "기업가치(백억원) → 이상치 수: 0 (범위: -375.00 ~ 8625.00)\n",
      "성공확률 → 이상치 수: 0 (범위: -0.05 ~ 1.15)\n",
      "설립연차 → 이상치 수: 0 (범위: -11.00 ~ 37.00)\n",
      "기업가치_연차비 → 이상치 수: 396 (범위: -330.83 ~ 1112.78)\n",
      "매출_투자비 → 이상치 수: 512 (범위: -3.10 ~ 7.80)\n",
      "팔로워_고객비 → 이상치 수: 381 (범위: -0.06 ~ 0.18)\n",
      "이익률 → 이상치 수: 530 (범위: -1.13 ~ 1.85)\n",
      "매출_성장률 → 이상치 수: 505 (범위: -2.84 ~ 3.37)\n",
      "총_자본_비율 → 이상치 수: 530 (범위: -0.85 ~ 2.13)\n"
     ]
    }
   ],
   "source": [
    "# 수치형 컬럼만 적용\n",
    "numeric_cols = train.select_dtypes(include=['float64', 'int64']).columns.tolist()\n",
    "iqr_outliers = detect_outliers_iqr(train, numeric_cols)\n",
    "\n",
    "# 결과 확인\n",
    "for col, info in iqr_outliers.items():\n",
    "    print(f\"{col} → 이상치 수: {info['num_outliers']} (범위: {info['lower_bound']:.2f} ~ {info['upper_bound']:.2f})\")\n"
   ]
  },
  {
   "cell_type": "code",
   "execution_count": 414,
   "id": "452af8ae",
   "metadata": {},
   "outputs": [
    {
     "name": "stdout",
     "output_type": "stream",
     "text": [
      "설립연도 → 이상치 수: 0 (범위: 1988.00 ~ 2036.00)\n",
      "직원 수 → 이상치 수: 0 (범위: -2868.00 ~ 7616.00)\n",
      "고객수(백만명) → 이상치 수: 0 (범위: -0.50 ~ 99.50)\n",
      "총 투자금(억원) → 이상치 수: 0 (범위: -3099.50 ~ 9524.50)\n",
      "연매출(억원) → 이상치 수: 0 (범위: -6550.50 ~ 19489.50)\n",
      "SNS 팔로워 수(백만명) → 이상치 수: 0 (범위: -2.84 ~ 8.10)\n",
      "기업가치(백억원) → 이상치 수: 0 (범위: -375.00 ~ 8625.00)\n",
      "설립연차 → 이상치 수: 0 (범위: -11.00 ~ 37.00)\n",
      "기업가치_연차비 → 이상치 수: 140 (범위: -344.45 ~ 1120.96)\n",
      "매출_투자비 → 이상치 수: 205 (범위: -3.27 ~ 8.25)\n",
      "팔로워_고객비 → 이상치 수: 148 (범위: -0.05 ~ 0.16)\n",
      "이익률 → 이상치 수: 227 (범위: -0.99 ~ 1.79)\n",
      "매출_성장률 → 이상치 수: 209 (범위: -2.92 ~ 3.52)\n",
      "총_자본_비율 → 이상치 수: 227 (범위: -0.79 ~ 1.99)\n"
     ]
    }
   ],
   "source": [
    "# 수치형 컬럼만 적용\n",
    "numeric_cols = test.select_dtypes(include=['float64', 'int64']).columns.tolist()\n",
    "iqr_outliers = detect_outliers_iqr(test, numeric_cols)\n",
    "\n",
    "# 결과 확인\n",
    "for col, info in iqr_outliers.items():\n",
    "    print(f\"{col} → 이상치 수: {info['num_outliers']} (범위: {info['lower_bound']:.2f} ~ {info['upper_bound']:.2f})\")"
   ]
  },
  {
   "cell_type": "code",
   "execution_count": 415,
   "id": "f316d5d6",
   "metadata": {},
   "outputs": [],
   "source": [
    "# 클리핑\n",
    "def clip_outliers_iqr(df, col):\n",
    "    Q1 = df[col].quantile(0.25)\n",
    "    Q3 = df[col].quantile(0.75)\n",
    "    IQR = Q3 - Q1\n",
    "    lower = Q1 - 1.5 * IQR\n",
    "    upper = Q3 + 1.5 * IQR\n",
    "    df[col] = df[col].clip(lower, upper)"
   ]
  },
  {
   "cell_type": "code",
   "execution_count": 416,
   "id": "9b1fed4b",
   "metadata": {},
   "outputs": [],
   "source": [
    "# 클리핑 적용\n",
    "for col in ['기업가치_연차비', '매출_투자비', '팔로워_고객비']:\n",
    "    clip_outliers_iqr(train, col)\n",
    "for col in ['기업가치_연차비', '매출_투자비', '팔로워_고객비']:\n",
    "    clip_outliers_iqr(test, col)"
   ]
  },
  {
   "cell_type": "markdown",
   "id": "435e3b98",
   "metadata": {},
   "source": [
    "### 5. 인코딩\n",
    "- 변수 : 국가, 분야, 투자단계, 인수여부, 상장여부\n",
    "- One-Hot Encoding (카테고리가 적을 때)\n",
    "- Label Encoding (카테고리가 많거나 순서가 있을 때)"
   ]
  },
  {
   "cell_type": "code",
   "execution_count": 417,
   "id": "193269b7",
   "metadata": {},
   "outputs": [
    {
     "name": "stdout",
     "output_type": "stream",
     "text": [
      "'국가' 카테고리 수: 10\n",
      "→ 카테고리 목록: ['CT005' 'CT006' 'CT007' 'CT002' 'CT008' 'CT010' 'CT001' 'CT009' 'CT003'\n",
      " 'CT004']\n",
      "\n",
      "'분야' 카테고리 수: 10\n",
      "→ 카테고리 목록: ['이커머스' '핀테크' '기술' '에너지' '에듀테크' '게임' '헬스케어' '물류' '푸드테크' 'AI']\n",
      "\n",
      "'투자단계' 카테고리 수: 5\n",
      "→ 카테고리 목록: ['Series A' 'Seed' 'Series C' 'Series B' 'IPO']\n",
      "\n",
      "'인수여부' 카테고리 수: 2\n",
      "→ 카테고리 목록: ['No' 'Yes']\n",
      "\n",
      "'상장여부' 카테고리 수: 2\n",
      "→ 카테고리 목록: ['No' 'Yes']\n",
      "\n"
     ]
    }
   ],
   "source": [
    "# one-hot 인코딩을 쓸지 label 인코딩을 쓸지 카테고리 수 파악\n",
    "# 확인할 컬럼 리스트\n",
    "cat_cols = ['국가', '분야', '투자단계', '인수여부', '상장여부']\n",
    "\n",
    "# 각 컬럼의 카테고리 수 출력\n",
    "for col in cat_cols:\n",
    "    n_unique = train[col].nunique(dropna=True)\n",
    "    print(f\"'{col}' 카테고리 수: {n_unique}\")\n",
    "    print(f\"→ 카테고리 목록: {train[col].dropna().unique()}\\n\")"
   ]
  },
  {
   "cell_type": "code",
   "execution_count": 418,
   "id": "2fd223a9",
   "metadata": {},
   "outputs": [],
   "source": [
    "# 카테고리 수가 10개 이하이므로 one-hot 인코딩으로 선택\n",
    "train = pd.get_dummies(train, columns=cat_cols, drop_first=False, dtype=int)\n",
    "test = pd.get_dummies(test, columns=cat_cols, drop_first=False, dtype=int)\n",
    "# 컬럼 불일치 일시\n",
    "missing_cols = set(train.columns) - set(test.columns)\n",
    "missing_cols.discard('성공확률')  # test에 없는 타겟컬럼은 제외\n",
    "for col in missing_cols:\n",
    "    test[col] = 0"
   ]
  },
  {
   "cell_type": "markdown",
   "id": "11009abc",
   "metadata": {},
   "source": [
    "### 6. 스케일링\n",
    "- StandardScaler\t평균 0, 표준편차 1로 변환. 정규분포에 가까운 경우 적합.\n",
    "- MinMaxScaler\t0~1 범위로 정규화. 데이터 분포에 관계없이 모든 범위 고정. 이상치에 민감함.\n",
    "- RobustScaler\t중앙값(median)과 IQR(4분위 범위) 기준으로 스케일링. 이상치에 강함.\n",
    "- MaxAbsScaler\t절댓값 기준으로 -1~1로 조정. 희소행렬(sparse matrix) 에 적합."
   ]
  },
  {
   "cell_type": "code",
   "execution_count": 419,
   "id": "039e6a24",
   "metadata": {},
   "outputs": [],
   "source": [
    "# 스케일링 방식을 비교해봤을 때 스케일링 대상 컬럼들 간의 이상치 영향이 크지 않거나, 선형 회귀 모델에 미치는 영향이 제한적이라 판단\n",
    "# 이 경우 StandardScaler를 사용하는 것이 무난하다고 생각이 들어 StandardScaler 사용\n",
    "from sklearn.preprocessing import StandardScaler\n",
    "\n",
    "# 스케일링할 수치형 컬럼 리스트\n",
    "numeric_cols = ['직원 수', '고객수(백만명)', '총 투자금(억원)', \n",
    "                '연매출(억원)', 'SNS 팔로워 수(백만명)', '기업가치(백억원)', \n",
    "                '설립연차', '기업가치_연차비', '매출_투자비', '팔로워_고객비', '이익률', '매출_성장률', '총_자본_비율']\n",
    "\n",
    "# 스케일러 학습 및 변환\n",
    "scaler = StandardScaler()\n",
    "train[numeric_cols] = scaler.fit_transform(train[numeric_cols])\n",
    "\n",
    "# test 데이터도 동일한 스케일러로 변환\n",
    "test[numeric_cols] = scaler.transform(test[numeric_cols])"
   ]
  },
  {
   "cell_type": "code",
   "execution_count": 420,
   "id": "dad87b83",
   "metadata": {},
   "outputs": [
    {
     "name": "stdout",
     "output_type": "stream",
     "text": [
      "<class 'pandas.core.frame.DataFrame'>\n",
      "RangeIndex: 4376 entries, 0 to 4375\n",
      "Data columns (total 45 columns):\n",
      " #   Column          Non-Null Count  Dtype  \n",
      "---  ------          --------------  -----  \n",
      " 0   ID              4376 non-null   object \n",
      " 1   설립연도            4376 non-null   int64  \n",
      " 2   직원 수            4376 non-null   float64\n",
      " 3   고객수(백만명)        4376 non-null   float64\n",
      " 4   총 투자금(억원)       4376 non-null   float64\n",
      " 5   연매출(억원)         4376 non-null   float64\n",
      " 6   SNS 팔로워 수(백만명)  4376 non-null   float64\n",
      " 7   기업가치(백억원)       4376 non-null   float64\n",
      " 8   성공확률            4376 non-null   float64\n",
      " 9   설립연차            4376 non-null   float64\n",
      " 10  기업가치_연차비        4376 non-null   float64\n",
      " 11  매출_투자비          4376 non-null   float64\n",
      " 12  팔로워_고객비         4376 non-null   float64\n",
      " 13  이익률             4376 non-null   float64\n",
      " 14  매출_성장률          4376 non-null   float64\n",
      " 15  총_자본_비율         4376 non-null   float64\n",
      " 16  국가_CT001        4376 non-null   int32  \n",
      " 17  국가_CT002        4376 non-null   int32  \n",
      " 18  국가_CT003        4376 non-null   int32  \n",
      " 19  국가_CT004        4376 non-null   int32  \n",
      " 20  국가_CT005        4376 non-null   int32  \n",
      " 21  국가_CT006        4376 non-null   int32  \n",
      " 22  국가_CT007        4376 non-null   int32  \n",
      " 23  국가_CT008        4376 non-null   int32  \n",
      " 24  국가_CT009        4376 non-null   int32  \n",
      " 25  국가_CT010        4376 non-null   int32  \n",
      " 26  분야_AI           4376 non-null   int32  \n",
      " 27  분야_게임           4376 non-null   int32  \n",
      " 28  분야_기술           4376 non-null   int32  \n",
      " 29  분야_물류           4376 non-null   int32  \n",
      " 30  분야_에너지          4376 non-null   int32  \n",
      " 31  분야_에듀테크         4376 non-null   int32  \n",
      " 32  분야_이커머스         4376 non-null   int32  \n",
      " 33  분야_푸드테크         4376 non-null   int32  \n",
      " 34  분야_핀테크          4376 non-null   int32  \n",
      " 35  분야_헬스케어         4376 non-null   int32  \n",
      " 36  투자단계_IPO        4376 non-null   int32  \n",
      " 37  투자단계_Seed       4376 non-null   int32  \n",
      " 38  투자단계_Series A   4376 non-null   int32  \n",
      " 39  투자단계_Series B   4376 non-null   int32  \n",
      " 40  투자단계_Series C   4376 non-null   int32  \n",
      " 41  인수여부_No         4376 non-null   int32  \n",
      " 42  인수여부_Yes        4376 non-null   int32  \n",
      " 43  상장여부_No         4376 non-null   int32  \n",
      " 44  상장여부_Yes        4376 non-null   int32  \n",
      "dtypes: float64(14), int32(29), int64(1), object(1)\n",
      "memory usage: 1.0+ MB\n"
     ]
    }
   ],
   "source": [
    "train.info()"
   ]
  },
  {
   "cell_type": "markdown",
   "id": "6b71787d",
   "metadata": {},
   "source": [
    "### 7. 상관관계 분석\n",
    "- 상관관계 분석 결과 설립연도, 설립연차, 기업가치_연차비, 총 투자금(억원), 매출_투자비, 고객수(백만명), 팔로워_고객비, SNS 팔로워 수(백만명), 팔로워_고객비, 연매출(억원), 기업가치(백억원), 기업가치_연차비가 연관관계가 있음을 확인"
   ]
  },
  {
   "cell_type": "code",
   "execution_count": 421,
   "id": "d335cf1b",
   "metadata": {},
   "outputs": [
    {
     "name": "stdout",
     "output_type": "stream",
     "text": [
      "상관관계 높은 피처 쌍 (자기자신 제외):\n",
      "설립연도            설립연차       -1.000000\n",
      "인수여부_No         인수여부_Yes   -1.000000\n",
      "이익률             총_자본_비율    -1.000000\n",
      "상장여부_No         상장여부_Yes   -1.000000\n",
      "설립연도            기업가치_연차비    0.827011\n",
      "설립연차            기업가치_연차비   -0.827011\n",
      "총 투자금(억원)       매출_투자비     -0.709510\n",
      "고객수(백만명)        팔로워_고객비    -0.644710\n",
      "SNS 팔로워 수(백만명)  팔로워_고객비     0.607358\n",
      "연매출(억원)         매출_투자비      0.504395\n",
      "dtype: float64\n"
     ]
    }
   ],
   "source": [
    "import pandas as pd\n",
    "import numpy as np\n",
    "import matplotlib.pyplot as plt\n",
    "\n",
    "# 상관계수 행렬 (숫자형 변수만)\n",
    "corr_matrix = train.corr(numeric_only=True)\n",
    "\n",
    "# 상관계수 행렬을 길게 풀어서 상관관계 쌍으로 만들기\n",
    "corr_pairs = corr_matrix.unstack()\n",
    "\n",
    "# 자기 자신과의 상관관계(1.0) 제거\n",
    "corr_pairs = corr_pairs[corr_pairs.index.get_level_values(0) != corr_pairs.index.get_level_values(1)]\n",
    "\n",
    "# 중복 제거 (ex. A-B와 B-A는 하나로 취급)\n",
    "corr_pairs = corr_pairs.drop_duplicates()\n",
    "\n",
    "# 절대값 기준으로 정렬\n",
    "sorted_corr_pairs = corr_pairs.reindex(corr_pairs.abs().sort_values(ascending=False).index)\n",
    "\n",
    "# 상위 10개 확인 (원하면 숫자 바꿔도 됩니다)\n",
    "print(\"상관관계 높은 피처 쌍 (자기자신 제외):\")\n",
    "print(sorted_corr_pairs.head(10))\n",
    "\n",
    "plt.show()"
   ]
  },
  {
   "cell_type": "code",
   "execution_count": 422,
   "id": "7976f40d",
   "metadata": {},
   "outputs": [
    {
     "name": "stdout",
     "output_type": "stream",
     "text": [
      "✅ 성공확률과 상관관계가 높은 피처:\n",
      "분야_헬스케어          -0.050412\n",
      "기업가치(백억원)         0.038361\n",
      "분야_핀테크            0.036031\n",
      "상장여부_Yes          0.031413\n",
      "상장여부_No          -0.031413\n",
      "국가_CT002         -0.030246\n",
      "팔로워_고객비           0.028075\n",
      "국가_CT009          0.024956\n",
      "분야_이커머스          -0.019987\n",
      "분야_에너지            0.019899\n",
      "투자단계_Series B    -0.019373\n",
      "연매출(억원)          -0.018994\n",
      "투자단계_Seed         0.018269\n",
      "SNS 팔로워 수(백만명)    0.017927\n",
      "국가_CT008          0.017290\n",
      "기업가치_연차비          0.015176\n",
      "총 투자금(억원)        -0.014939\n",
      "국가_CT006          0.014471\n",
      "고객수(백만명)         -0.014135\n",
      "직원 수             -0.013776\n",
      "인수여부_No           0.012065\n",
      "인수여부_Yes         -0.012065\n",
      "매출_성장률           -0.011403\n",
      "국가_CT004         -0.010975\n",
      "국가_CT001         -0.008728\n",
      "이익률              -0.006569\n",
      "총_자본_비율           0.006569\n",
      "국가_CT010         -0.005634\n",
      "분야_게임            -0.005531\n",
      "분야_푸드테크          -0.004299\n",
      "국가_CT007          0.003733\n",
      "분야_기술             0.003571\n",
      "국가_CT003         -0.003263\n",
      "분야_물류             0.003061\n",
      "투자단계_IPO         -0.002592\n",
      "투자단계_Series C     0.002185\n",
      "설립연차             -0.002147\n",
      "설립연도              0.002147\n",
      "분야_에듀테크           0.002083\n",
      "매출_투자비            0.001968\n",
      "투자단계_Series A     0.001395\n",
      "분야_AI            -0.000322\n",
      "국가_CT005         -0.000168\n",
      "Name: 성공확률, dtype: float64\n",
      "\n",
      "✅ 상관계수 절대값이 0.01 이상인 피처:\n",
      "분야_헬스케어          -0.050412\n",
      "기업가치(백억원)         0.038361\n",
      "분야_핀테크            0.036031\n",
      "상장여부_Yes          0.031413\n",
      "상장여부_No          -0.031413\n",
      "국가_CT002         -0.030246\n",
      "팔로워_고객비           0.028075\n",
      "국가_CT009          0.024956\n",
      "분야_이커머스          -0.019987\n",
      "분야_에너지            0.019899\n",
      "투자단계_Series B    -0.019373\n",
      "연매출(억원)          -0.018994\n",
      "투자단계_Seed         0.018269\n",
      "SNS 팔로워 수(백만명)    0.017927\n",
      "국가_CT008          0.017290\n",
      "기업가치_연차비          0.015176\n",
      "총 투자금(억원)        -0.014939\n",
      "국가_CT006          0.014471\n",
      "고객수(백만명)         -0.014135\n",
      "직원 수             -0.013776\n",
      "인수여부_No           0.012065\n",
      "인수여부_Yes         -0.012065\n",
      "매출_성장률           -0.011403\n",
      "국가_CT004         -0.010975\n",
      "Name: 성공확률, dtype: float64\n",
      "\n",
      "⚠️ 상관계수 절대값이 0.01 이하인 피처:\n",
      "국가_CT001        -0.008728\n",
      "이익률             -0.006569\n",
      "총_자본_비율          0.006569\n",
      "국가_CT010        -0.005634\n",
      "분야_게임           -0.005531\n",
      "분야_푸드테크         -0.004299\n",
      "국가_CT007         0.003733\n",
      "분야_기술            0.003571\n",
      "국가_CT003        -0.003263\n",
      "분야_물류            0.003061\n",
      "투자단계_IPO        -0.002592\n",
      "투자단계_Series C    0.002185\n",
      "설립연차            -0.002147\n",
      "설립연도             0.002147\n",
      "분야_에듀테크          0.002083\n",
      "매출_투자비           0.001968\n",
      "투자단계_Series A    0.001395\n",
      "분야_AI           -0.000322\n",
      "국가_CT005        -0.000168\n",
      "Name: 성공확률, dtype: float64\n"
     ]
    }
   ],
   "source": [
    "import pandas as pd\n",
    "\n",
    "# 숫자형 피처에 대한 상관계수 행렬 계산\n",
    "corr_matrix = train.corr(numeric_only=True)\n",
    "\n",
    "# '성공확률'과의 상관계수만 추출\n",
    "target = '성공확률'\n",
    "target_corr = corr_matrix[target].drop(target)  # 자기 자신 제외\n",
    "\n",
    "# 절대값 기준 정렬\n",
    "target_corr_sorted = target_corr.reindex(target_corr.abs().sort_values(ascending=False).index)\n",
    "\n",
    "# 출력: 높은 상관 피처\n",
    "print(\"✅ 성공확률과 상관관계가 높은 피처:\")\n",
    "print(target_corr_sorted)\n",
    "\n",
    "# 기준 설정\n",
    "threshold_high = 0.01\n",
    "threshold_low = 0.01\n",
    "\n",
    "# 높은 상관계수 피처\n",
    "print(f\"\\n✅ 상관계수 절대값이 {threshold_high} 이상인 피처:\")\n",
    "print(target_corr_sorted[abs(target_corr_sorted) > threshold_high])\n",
    "\n",
    "# 낮은 상관계수 피처\n",
    "print(f\"\\n⚠️ 상관계수 절대값이 {threshold_low} 이하인 피처:\")\n",
    "print(target_corr_sorted[abs(target_corr_sorted) <= threshold_low])\n"
   ]
  },
  {
   "cell_type": "markdown",
   "id": "aec4e2f0",
   "metadata": {},
   "source": [
    "### 8. 모델링"
   ]
  },
  {
   "cell_type": "code",
   "execution_count": 423,
   "id": "275363b7",
   "metadata": {},
   "outputs": [],
   "source": [
    "# target과 제외할 칼럼\n",
    "target_col = '성공확률'\n",
    "drop_cols = ['ID', '매출_투자비', '총_자본_비율', '설립연도', target_col]\n",
    "\n",
    "# 학습용 피처, 타겟 분리\n",
    "X = train.drop(columns=drop_cols)\n",
    "y = train[target_col]"
   ]
  },
  {
   "cell_type": "code",
   "execution_count": 424,
   "id": "d218007c",
   "metadata": {},
   "outputs": [],
   "source": [
    "from sklearn.model_selection import train_test_split\n",
    "# 훈련/검증 데이터 분할\n",
    "X_train, X_valid, y_train, y_valid = train_test_split(X, y, test_size=0.2, random_state=42)"
   ]
  },
  {
   "cell_type": "code",
   "execution_count": 425,
   "id": "a81a4121",
   "metadata": {},
   "outputs": [
    {
     "name": "stdout",
     "output_type": "stream",
     "text": [
      "[LightGBM] [Warning] Found whitespace in feature_names, replace with underlines\n",
      "[LightGBM] [Info] Auto-choosing col-wise multi-threading, the overhead of testing was 0.000316 seconds.\n",
      "You can set `force_col_wise=true` to remove the overhead.\n",
      "[LightGBM] [Info] Total Bins 2300\n",
      "[LightGBM] [Info] Number of data points in the train set: 3500, number of used features: 40\n",
      "[LightGBM] [Info] Start training from score 0.534486\n",
      "📊 Weighted MAE 비교:\n",
      "RandomForest    | WMAE: 0.2147\n",
      "CatBoost        | WMAE: 0.2169\n",
      "LightGBM        | WMAE: 0.2170\n",
      "Ridge           | WMAE: 0.2175\n",
      "Linear          | WMAE: 0.2175\n",
      "Lasso           | WMAE: 0.2178\n",
      "GradientBoosting | WMAE: 0.2181\n",
      "XGBoost         | WMAE: 0.2219\n"
     ]
    }
   ],
   "source": [
    "from sklearn.linear_model import LinearRegression, Ridge, Lasso\n",
    "from sklearn.ensemble import RandomForestRegressor\n",
    "from sklearn.ensemble import GradientBoostingRegressor\n",
    "from xgboost import XGBRegressor\n",
    "from lightgbm import LGBMRegressor\n",
    "from catboost import CatBoostRegressor\n",
    "from sklearn.metrics import mean_absolute_error\n",
    "\n",
    "models = {\n",
    "    'Linear': LinearRegression(),\n",
    "    'Ridge': Ridge(alpha=1.0),\n",
    "    'Lasso': Lasso(alpha=0.1),\n",
    "    'RandomForest': RandomForestRegressor(max_depth=None, \n",
    "    max_features='sqrt', \n",
    "    min_samples_leaf=1, \n",
    "    min_samples_split=2, \n",
    "    n_estimators=300,\n",
    "    random_state=42),\n",
    "    'GradientBoosting': GradientBoostingRegressor(random_state=42),\n",
    "    'XGBoost': XGBRegressor(random_state=42),\n",
    "    'LightGBM': LGBMRegressor(random_state=42),\n",
    "    'CatBoost': CatBoostRegressor(verbose=0, random_state=42)\n",
    "}\n",
    "\n",
    "results = []\n",
    "\n",
    "# 가중치 정의\n",
    "weights_valid = np.where(y_valid < 0.5, 2, 1)\n",
    "\n",
    "for name, model in models.items():\n",
    "    model.fit(X_train, y_train)\n",
    "    pred = model.predict(X_valid)\n",
    "    wmae = np.sum(weights_valid * np.abs(y_valid - pred)) / np.sum(weights_valid)\n",
    "    results.append((name, wmae))\n",
    "\n",
    "# 결과 정렬\n",
    "results.sort(key=lambda x: x[1])\n",
    "print(\"📊 Weighted MAE 비교:\")\n",
    "for name, wmae in results:\n",
    "    print(f\"{name:<15} | WMAE: {wmae:.4f}\")\n"
   ]
  },
  {
   "cell_type": "code",
   "execution_count": 426,
   "id": "507eb042",
   "metadata": {},
   "outputs": [
    {
     "name": "stdout",
     "output_type": "stream",
     "text": [
      "✅ submission 파일이 저장되었습니다: baseline_submission.csv\n"
     ]
    }
   ],
   "source": [
    "sample_submission = pd.read_csv('data/sample_submission.csv')  # 파일 경로 확인 필요\n",
    "\n",
    "# ✅ 최종 모델: RandomForest 사용하여 test 데이터 예측 및 submission 저장\n",
    "final_model = RandomForestRegressor(\n",
    "    max_depth=None, \n",
    "    max_features='sqrt', \n",
    "    min_samples_leaf=1, \n",
    "    min_samples_split=2, \n",
    "    n_estimators=300,\n",
    "    random_state=42\n",
    ")\n",
    "final_model.fit(X, y)  # 전체 학습 데이터로 다시 학습\n",
    "\n",
    "X_test = test.drop(columns=['ID', '매출_투자비', '총_자본_비율', '설립연도'])\n",
    "final_predictions = final_model.predict(X_test)\n",
    "\n",
    "# 예측 결과 저장\n",
    "sample_submission['성공확률'] = final_predictions\n",
    "sample_submission.to_csv('data/baseline_submission.csv', index=False, encoding='utf-8-sig')\n",
    "print(\"✅ submission 파일이 저장되었습니다: baseline_submission.csv\")"
   ]
  },
  {
   "cell_type": "code",
   "execution_count": 102,
   "id": "e6e6a808",
   "metadata": {},
   "outputs": [
    {
     "name": "stdout",
     "output_type": "stream",
     "text": [
      "Best parameters: {'max_depth': None, 'max_features': 'sqrt', 'min_samples_leaf': 1, 'min_samples_split': 2, 'n_estimators': 300}\n"
     ]
    }
   ],
   "source": [
    "from sklearn.model_selection import GridSearchCV\n",
    "\n",
    "# 파라미터 그리드 정의\n",
    "param_grid = {\n",
    "    'n_estimators': [100, 200, 300],\n",
    "    'max_depth': [None, 10, 20],\n",
    "    'min_samples_split': [2, 5, 10],\n",
    "    'min_samples_leaf': [1, 2, 4],\n",
    "    'max_features': ['auto', 'sqrt', 'log2']\n",
    "}\n",
    "\n",
    "# GridSearchCV를 사용하여 최적 파라미터 찾기\n",
    "grid_search = GridSearchCV(RandomForestRegressor(random_state=42), param_grid, cv=5, n_jobs=-1, scoring='neg_mean_absolute_error')\n",
    "grid_search.fit(X_train, y_train)\n",
    "\n",
    "# 최적의 파라미터\n",
    "print(\"Best parameters:\", grid_search.best_params_)\n",
    "\n",
    "# 최적 모델을 사용하여 예측\n",
    "final_model = grid_search.best_estimator_\n",
    "final_model.fit(X_train, y_train)\n",
    "final_predictions = final_model.predict(X_test)\n"
   ]
  },
  {
   "cell_type": "code",
   "execution_count": 103,
   "id": "f07b6557",
   "metadata": {},
   "outputs": [
    {
     "name": "stdout",
     "output_type": "stream",
     "text": [
      "직원 수              0.069322\n",
      "매출_성장률            0.067265\n",
      "총 투자금(억원)         0.066659\n",
      "연매출(억원)           0.065939\n",
      "팔로워_고객비           0.060790\n",
      "고객수(백만명)          0.059241\n",
      "이익률               0.058480\n",
      "총_자본_비율           0.058374\n",
      "기업가치_연차비          0.055821\n",
      "매출_투자비            0.053077\n",
      "SNS 팔로워 수(백만명)    0.052088\n",
      "설립연차              0.041210\n",
      "설립연도              0.040952\n",
      "기업가치(백억원)         0.039641\n",
      "상장여부_No           0.009188\n",
      "인수여부_Yes          0.009122\n",
      "인수여부_No           0.009121\n",
      "상장여부_Yes          0.009120\n",
      "투자단계_IPO          0.009065\n",
      "투자단계_Series A     0.009032\n",
      "투자단계_Seed         0.008941\n",
      "분야_에너지            0.008755\n",
      "투자단계_Series B     0.008630\n",
      "투자단계_Series C     0.008105\n",
      "국가_CT010          0.007228\n",
      "국가_CT004          0.007045\n",
      "국가_CT008          0.006963\n",
      "분야_헬스케어           0.006945\n",
      "국가_CT001          0.006944\n",
      "국가_CT006          0.006818\n",
      "국가_CT009          0.006786\n",
      "국가_CT007          0.006659\n",
      "국가_CT002          0.006645\n",
      "분야_게임             0.006587\n",
      "국가_CT005          0.006428\n",
      "국가_CT003          0.006377\n",
      "분야_이커머스           0.006374\n",
      "분야_기술             0.006277\n",
      "분야_푸드테크           0.005880\n",
      "분야_에듀테크           0.005710\n",
      "분야_핀테크            0.005697\n",
      "분야_물류             0.005385\n",
      "분야_AI             0.005316\n",
      "dtype: float64\n"
     ]
    }
   ],
   "source": [
    "import pandas as pd\n",
    "\n",
    "# 특성 중요도 출력\n",
    "feature_importance = pd.Series(final_model.feature_importances_, index=X.columns).sort_values(ascending=False)\n",
    "print(feature_importance)\n",
    "\n",
    "# 중요하지 않은 특성 제거\n",
    "important_features = feature_importance[feature_importance > 0.01].index  # 중요도가 0.01 이상인 특성만 선택\n",
    "X = X[important_features]\n"
   ]
  },
  {
   "cell_type": "code",
   "execution_count": null,
   "id": "5cb4361f",
   "metadata": {},
   "outputs": [],
   "source": [
    "# 인수와 상장을 합치는게 좋아보임, 투자단계랑 분야를 파 볼 필요가 있을듯"
   ]
  },
  {
   "cell_type": "code",
   "execution_count": null,
   "id": "6265cb7b",
   "metadata": {},
   "outputs": [],
   "source": []
  }
 ],
 "metadata": {
  "kernelspec": {
   "display_name": "Python 3",
   "language": "python",
   "name": "python3"
  },
  "language_info": {
   "codemirror_mode": {
    "name": "ipython",
    "version": 3
   },
   "file_extension": ".py",
   "mimetype": "text/x-python",
   "name": "python",
   "nbconvert_exporter": "python",
   "pygments_lexer": "ipython3",
   "version": "3.11.2"
  }
 },
 "nbformat": 4,
 "nbformat_minor": 5
}
