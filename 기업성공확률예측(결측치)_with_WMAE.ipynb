{
 "cells": [
  {
   "cell_type": "code",
   "execution_count": 898,
   "id": "c71d3577",
   "metadata": {},
   "outputs": [],
   "source": [
    "import pandas as pd\n",
    "import matplotlib as mpl\n",
    "import platform\n",
    "import warnings\n",
    "import numpy as np\n",
    "import re"
   ]
  },
  {
   "cell_type": "code",
   "execution_count": 899,
   "id": "4b6a456b",
   "metadata": {},
   "outputs": [],
   "source": [
    "warnings.filterwarnings(\"ignore\")"
   ]
  },
  {
   "cell_type": "code",
   "execution_count": 900,
   "id": "0ca3e47d",
   "metadata": {},
   "outputs": [],
   "source": [
    "# 한글 깨짐 방지 코드\n",
    "if platform.system() == 'Windows':\n",
    "    # Windows의 경우 'Malgun Gothic'을 많이 사용합니다.\n",
    "    mpl.rcParams['font.family'] = 'Malgun Gothic'\n",
    "elif platform.system() == 'Darwin':\n",
    "    # macOS의 경우 'AppleGothic'을 사용하거나, 설치된 한글 폰트를 선택합니다.\n",
    "    mpl.rcParams['font.family'] = 'AppleGothic'\n",
    "else:\n",
    "    # Linux의 경우 'NanumGothic' 등 한글 지원 폰트를 사용할 수 있습니다.\n",
    "    mpl.rcParams['font.family'] = 'NanumGothic'"
   ]
  },
  {
   "cell_type": "code",
   "execution_count": 901,
   "id": "ad51bdb8",
   "metadata": {},
   "outputs": [],
   "source": [
    "train = pd.read_csv('data/train.csv')\n",
    "test = pd.read_csv('data/test.csv')"
   ]
  },
  {
   "cell_type": "markdown",
   "id": "41170ad1",
   "metadata": {},
   "source": [
    "### 1 info() 결과\n",
    "1.1 train info() 결과\n",
    "- primary key = ID\n",
    "- 범주형 변수 : 국가, 분야, 투자단계, 인수여부, 상장여부, 기업가치(백억원)\n",
    "- null값 존재 변수 : 분야, 직원 수, 고객수(백만명), 기업가치(백억원)\n",
    "- target 변수 : 성공확률\n",
    "- 모델 돌릴때 null값 처리하고 범주형 변수 처리하고 ID, 성공확률 컬럼 제거\n",
    "### \n",
    "1.2 test info() 결과\n",
    "- primary key = ID\n",
    "- null값 존재 컬럼 : 분야, 직원 수, 고객수(백만명), 기업가치(백억원)\n",
    "- 범주형 변수 : 국가, 분야, 투자단계, 인수여부, 상장여부, 기업가치(백억원)"
   ]
  },
  {
   "cell_type": "code",
   "execution_count": 902,
   "id": "fae7e844",
   "metadata": {},
   "outputs": [
    {
     "name": "stdout",
     "output_type": "stream",
     "text": [
      "<class 'pandas.core.frame.DataFrame'>\n",
      "RangeIndex: 4376 entries, 0 to 4375\n",
      "Data columns (total 14 columns):\n",
      " #   Column          Non-Null Count  Dtype  \n",
      "---  ------          --------------  -----  \n",
      " 0   ID              4376 non-null   object \n",
      " 1   설립연도            4376 non-null   int64  \n",
      " 2   국가              4376 non-null   object \n",
      " 3   분야              3519 non-null   object \n",
      " 4   투자단계            4376 non-null   object \n",
      " 5   직원 수            4202 non-null   float64\n",
      " 6   인수여부            4376 non-null   object \n",
      " 7   상장여부            4376 non-null   object \n",
      " 8   고객수(백만명)        3056 non-null   float64\n",
      " 9   총 투자금(억원)       4376 non-null   float64\n",
      " 10  연매출(억원)         4376 non-null   float64\n",
      " 11  SNS 팔로워 수(백만명)  4376 non-null   float64\n",
      " 12  기업가치(백억원)       3156 non-null   object \n",
      " 13  성공확률            4376 non-null   float64\n",
      "dtypes: float64(6), int64(1), object(7)\n",
      "memory usage: 478.8+ KB\n"
     ]
    }
   ],
   "source": [
    "train.info()"
   ]
  },
  {
   "cell_type": "code",
   "execution_count": 903,
   "id": "4e12c76e",
   "metadata": {},
   "outputs": [
    {
     "name": "stdout",
     "output_type": "stream",
     "text": [
      "<class 'pandas.core.frame.DataFrame'>\n",
      "RangeIndex: 1755 entries, 0 to 1754\n",
      "Data columns (total 13 columns):\n",
      " #   Column          Non-Null Count  Dtype  \n",
      "---  ------          --------------  -----  \n",
      " 0   ID              1755 non-null   object \n",
      " 1   설립연도            1755 non-null   int64  \n",
      " 2   국가              1755 non-null   object \n",
      " 3   분야              1401 non-null   object \n",
      " 4   투자단계            1755 non-null   object \n",
      " 5   직원 수            1679 non-null   float64\n",
      " 6   인수여부            1755 non-null   object \n",
      " 7   상장여부            1755 non-null   object \n",
      " 8   고객수(백만명)        1208 non-null   float64\n",
      " 9   총 투자금(억원)       1755 non-null   float64\n",
      " 10  연매출(억원)         1755 non-null   float64\n",
      " 11  SNS 팔로워 수(백만명)  1755 non-null   float64\n",
      " 12  기업가치(백억원)       1268 non-null   object \n",
      "dtypes: float64(5), int64(1), object(7)\n",
      "memory usage: 178.4+ KB\n"
     ]
    }
   ],
   "source": [
    "test.info()"
   ]
  },
  {
   "cell_type": "markdown",
   "id": "815056e6",
   "metadata": {},
   "source": [
    "### 2. 결측값 처리"
   ]
  },
  {
   "cell_type": "code",
   "execution_count": 904,
   "id": "6c8cd95e",
   "metadata": {},
   "outputs": [],
   "source": [
    "train['분야'] = train['분야'].fillna('기타')\n",
    "test['분야'] = test['분야'].fillna('기타')"
   ]
  },
  {
   "cell_type": "code",
   "execution_count": 905,
   "id": "7af38b41",
   "metadata": {},
   "outputs": [],
   "source": [
    "train['고객수(백만명)'] = train['고객수(백만명)'].fillna(0)\n",
    "test['고객수(백만명)'] = test['고객수(백만명)'].fillna(0)"
   ]
  },
  {
   "cell_type": "code",
   "execution_count": 906,
   "id": "d816965a",
   "metadata": {},
   "outputs": [],
   "source": [
    "from sklearn.impute import KNNImputer\n",
    "\n",
    "imputer = KNNImputer(n_neighbors=5)\n",
    "train[['직원 수']] = imputer.fit_transform(train[['직원 수']])\n",
    "test[['직원 수']] = imputer.fit_transform(test[['직원 수']])"
   ]
  },
  {
   "cell_type": "code",
   "execution_count": 907,
   "id": "7ec62b0d",
   "metadata": {},
   "outputs": [],
   "source": [
    "# 기업가치(백억원) 컬럼 null값 처리위해 숫자형 변수로 처리\n",
    "def parse_기업가치(value):\n",
    "    if pd.isnull(value):\n",
    "        return np.nan\n",
    "    elif '이상' in value:\n",
    "        # \"6000이상\" -> 숫자만 추출해서 +500\n",
    "        num = re.findall(r'\\d+', value)\n",
    "        return float(num[0]) + 500 if num else np.nan\n",
    "    elif '-' in value:\n",
    "        # \"1500-2500\" -> 평균값\n",
    "        num = re.findall(r'\\d+', value)\n",
    "        if len(num) == 2:\n",
    "            return (float(num[0]) + float(num[1])) / 2\n",
    "    return np.nan\n",
    "\n",
    "train['기업가치(백억원)'] = train['기업가치(백억원)'].apply(parse_기업가치)\n",
    "test['기업가치(백억원)'] = test['기업가치(백억원)'].apply(parse_기업가치)"
   ]
  },
  {
   "cell_type": "code",
   "execution_count": 908,
   "id": "2b5829ad",
   "metadata": {},
   "outputs": [],
   "source": [
    "# train[기업가치(백억원)] null 값 처리\n",
    "# 1. 투자단계 + 분야 기준 그룹 평균으로 보간\n",
    "train['기업가치(백억원)'] = train.groupby(['투자단계', '분야'])['기업가치(백억원)'].transform(\n",
    "    lambda x: x.fillna(x.mean())\n",
    ")\n",
    "# 2. 남은 결측치는 전체 중앙값으로 보간\n",
    "train['기업가치(백억원)'].fillna(train['기업가치(백억원)'].median(), inplace=True)\n",
    "\n",
    "# test[기업가치(백억원)] null 값 처리\n",
    "# 1. 투자단계 + 분야 기준 그룹 평균으로 보간\n",
    "test['기업가치(백억원)'] = test.groupby(['투자단계', '분야'])['기업가치(백억원)'].transform(\n",
    "    lambda x: x.fillna(x.mean())\n",
    ")\n",
    "# 2. 남은 결측치는 전체 중앙값으로 보간\n",
    "test['기업가치(백억원)'].fillna(test['기업가치(백억원)'].median(), inplace=True)"
   ]
  },
  {
   "cell_type": "markdown",
   "id": "222b50be",
   "metadata": {},
   "source": [
    "### 3. 파생변수 생각해보기"
   ]
  },
  {
   "cell_type": "code",
   "execution_count": 909,
   "id": "251d10a1",
   "metadata": {},
   "outputs": [],
   "source": [
    "# 설립연차\n",
    "train['설립연차'] = 2025 - train['설립연도']\n",
    "test['설립연차'] = 2025 - test['설립연도']"
   ]
  },
  {
   "cell_type": "code",
   "execution_count": 910,
   "id": "d7856fef",
   "metadata": {},
   "outputs": [],
   "source": [
    "# 기업 성장 속도\n",
    "train['기업가치_연차비'] = train['기업가치(백억원)'] / train['설립연차']\n",
    "test['기업가치_연차비'] = test['기업가치(백억원)'] / test['설립연차']"
   ]
  },
  {
   "cell_type": "code",
   "execution_count": 911,
   "id": "335e5af1",
   "metadata": {},
   "outputs": [],
   "source": [
    "# 투자 효율성\n",
    "train['매출_투자비'] = train['연매출(억원)'] / train['총 투자금(억원)']\n",
    "test['매출_투자비'] = test['연매출(억원)'] / test['총 투자금(억원)']"
   ]
  },
  {
   "cell_type": "code",
   "execution_count": 912,
   "id": "d22fcaf7",
   "metadata": {},
   "outputs": [],
   "source": [
    "# 브랜드 인지도 대비 실제 고객 전환율\n",
    "train['팔로워_고객비'] = train['SNS 팔로워 수(백만명)'] / train['고객수(백만명)']\n",
    "test['팔로워_고객비'] = test['SNS 팔로워 수(백만명)'] / test['고객수(백만명)']\n",
    "train['팔로워_고객비'].replace([np.inf, -np.inf], np.nan, inplace=True)\n",
    "train['팔로워_고객비'].fillna(0, inplace=True)\n",
    "test['팔로워_고객비'].replace([np.inf, -np.inf], np.nan, inplace=True)\n",
    "test['팔로워_고객비'].fillna(0, inplace=True)"
   ]
  },
  {
   "cell_type": "code",
   "execution_count": 913,
   "id": "1e2514ed",
   "metadata": {},
   "outputs": [],
   "source": [
    "# 이익률 = (연매출 - 총 투자금) / 연매출출\n",
    "train['이익률'] = (train['연매출(억원)'] - train['총 투자금(억원)']) / train['연매출(억원)']\n",
    "test['이익률'] = (test['연매출(억원)'] - test['총 투자금(억원)']) / test['연매출(억원)']"
   ]
  },
  {
   "cell_type": "code",
   "execution_count": 914,
   "id": "640c2aaa",
   "metadata": {},
   "outputs": [],
   "source": [
    "# 매출 성장률 = (연매출 - 이전 연매출) / 이전 연매출\n",
    "train['매출_성장률'] = train['연매출(억원)'].pct_change().fillna(0)\n",
    "test['매출_성장률'] = test['연매출(억원)'].pct_change().fillna(0)"
   ]
  },
  {
   "cell_type": "code",
   "execution_count": 915,
   "id": "4639eb1a",
   "metadata": {},
   "outputs": [],
   "source": [
    "# 총 자본 비율 = (총 투자금) / (연매출)\n",
    "train['총_자본_비율'] = train['총 투자금(억원)'] / train['연매출(억원)']\n",
    "test['총_자본_비율'] = test['총 투자금(억원)'] / test['연매출(억원)']"
   ]
  },
  {
   "cell_type": "code",
   "execution_count": 916,
   "id": "68b08bbc",
   "metadata": {},
   "outputs": [],
   "source": [
    "# 직원당_매출 = 연매출(억원) / 직원 수\n",
    "train['직원당_매출'] = train['연매출(억원)'] / train['직원 수']\n",
    "test['직원당_매출'] = test['연매출(억원)'] / test['직원 수']"
   ]
  },
  {
   "cell_type": "markdown",
   "id": "ff2d5c2a",
   "metadata": {},
   "source": [
    "### 4. 이상치 탐지\n",
    "- 사분위수 이상치 탐지 결과: 기업가치_연차비, 매출_투자비, 팔로워_고객비 등 파생변수에서만 이상치 발생\n",
    "- 파생변수 이지만 향후 모델에 사용할 수 있으므로 정제 필요하다고 생각 -> 클리핑 요소 사용\n",
    "- 클리핑 : 값이 일정 범위를 벗어나면 그 범위의 최대/최소값으로 잘라내는 방법"
   ]
  },
  {
   "cell_type": "code",
   "execution_count": 917,
   "id": "fd960d89",
   "metadata": {},
   "outputs": [],
   "source": [
    "# IQR 방식\n",
    "def detect_outliers_iqr(df, columns):\n",
    "    outlier_info = {}\n",
    "    \n",
    "    for col in columns:\n",
    "        Q1 = df[col].quantile(0.25)\n",
    "        Q3 = df[col].quantile(0.75)\n",
    "        IQR = Q3 - Q1\n",
    "        lower = Q1 - 1.5 * IQR\n",
    "        upper = Q3 + 1.5 * IQR\n",
    "\n",
    "        outliers = df[(df[col] < lower) | (df[col] > upper)]\n",
    "        outlier_info[col] = {\n",
    "            'lower_bound': lower,\n",
    "            'upper_bound': upper,\n",
    "            'num_outliers': outliers.shape[0]\n",
    "        }\n",
    "\n",
    "    return outlier_info"
   ]
  },
  {
   "cell_type": "code",
   "execution_count": 918,
   "id": "33cbc581",
   "metadata": {},
   "outputs": [
    {
     "name": "stdout",
     "output_type": "stream",
     "text": [
      "설립연도 → 이상치 수: 0 (범위: 1988.00 ~ 2036.00)\n",
      "직원 수 → 이상치 수: 0 (범위: -2332.88 ~ 7280.12)\n",
      "고객수(백만명) → 이상치 수: 0 (범위: -93.00 ~ 155.00)\n",
      "총 투자금(억원) → 이상치 수: 0 (범위: -3233.62 ~ 9793.38)\n",
      "연매출(억원) → 이상치 수: 0 (범위: -6803.12 ~ 19589.88)\n",
      "SNS 팔로워 수(백만명) → 이상치 수: 0 (범위: -2.70 ~ 8.02)\n",
      "기업가치(백억원) → 이상치 수: 0 (범위: -375.00 ~ 8625.00)\n",
      "성공확률 → 이상치 수: 0 (범위: -0.05 ~ 1.15)\n",
      "설립연차 → 이상치 수: 0 (범위: -11.00 ~ 37.00)\n",
      "기업가치_연차비 → 이상치 수: 396 (범위: -345.38 ~ 1121.52)\n",
      "매출_투자비 → 이상치 수: 512 (범위: -3.10 ~ 7.80)\n",
      "팔로워_고객비 → 이상치 수: 386 (범위: -0.11 ~ 0.18)\n",
      "이익률 → 이상치 수: 530 (범위: -1.13 ~ 1.85)\n",
      "매출_성장률 → 이상치 수: 505 (범위: -2.84 ~ 3.37)\n",
      "총_자본_비율 → 이상치 수: 530 (범위: -0.85 ~ 2.13)\n",
      "직원당_매출 → 이상치 수: 500 (범위: -4.49 ~ 10.91)\n"
     ]
    }
   ],
   "source": [
    "# 수치형 컬럼만 적용\n",
    "numeric_cols = train.select_dtypes(include=['float64', 'int64']).columns.tolist()\n",
    "iqr_outliers = detect_outliers_iqr(train, numeric_cols)\n",
    "\n",
    "# 결과 확인\n",
    "for col, info in iqr_outliers.items():\n",
    "    print(f\"{col} → 이상치 수: {info['num_outliers']} (범위: {info['lower_bound']:.2f} ~ {info['upper_bound']:.2f})\")\n"
   ]
  },
  {
   "cell_type": "code",
   "execution_count": 919,
   "id": "452af8ae",
   "metadata": {},
   "outputs": [
    {
     "name": "stdout",
     "output_type": "stream",
     "text": [
      "설립연도 → 이상치 수: 0 (범위: 1988.00 ~ 2036.00)\n",
      "직원 수 → 이상치 수: 0 (범위: -2244.25 ~ 7241.75)\n",
      "고객수(백만명) → 이상치 수: 0 (범위: -93.00 ~ 155.00)\n",
      "총 투자금(억원) → 이상치 수: 0 (범위: -3099.50 ~ 9524.50)\n",
      "연매출(억원) → 이상치 수: 0 (범위: -6550.50 ~ 19489.50)\n",
      "SNS 팔로워 수(백만명) → 이상치 수: 0 (범위: -2.84 ~ 8.10)\n",
      "기업가치(백억원) → 이상치 수: 0 (범위: -375.00 ~ 8625.00)\n",
      "설립연차 → 이상치 수: 0 (범위: -11.00 ~ 37.00)\n",
      "기업가치_연차비 → 이상치 수: 142 (범위: -337.73 ~ 1116.92)\n",
      "매출_투자비 → 이상치 수: 205 (범위: -3.27 ~ 8.25)\n",
      "팔로워_고객비 → 이상치 수: 131 (범위: -0.10 ~ 0.17)\n",
      "이익률 → 이상치 수: 227 (범위: -0.99 ~ 1.79)\n",
      "매출_성장률 → 이상치 수: 209 (범위: -2.92 ~ 3.52)\n",
      "총_자본_비율 → 이상치 수: 227 (범위: -0.79 ~ 1.99)\n",
      "직원당_매출 → 이상치 수: 195 (범위: -4.81 ~ 11.38)\n"
     ]
    }
   ],
   "source": [
    "# 수치형 컬럼만 적용\n",
    "numeric_cols = test.select_dtypes(include=['float64', 'int64']).columns.tolist()\n",
    "iqr_outliers = detect_outliers_iqr(test, numeric_cols)\n",
    "\n",
    "# 결과 확인\n",
    "for col, info in iqr_outliers.items():\n",
    "    print(f\"{col} → 이상치 수: {info['num_outliers']} (범위: {info['lower_bound']:.2f} ~ {info['upper_bound']:.2f})\")"
   ]
  },
  {
   "cell_type": "code",
   "execution_count": 920,
   "id": "f316d5d6",
   "metadata": {},
   "outputs": [],
   "source": [
    "# 클리핑\n",
    "def clip_outliers_iqr(df, col):\n",
    "    Q1 = df[col].quantile(0.25)\n",
    "    Q3 = df[col].quantile(0.75)\n",
    "    IQR = Q3 - Q1\n",
    "    lower = Q1 - 1.5 * IQR\n",
    "    upper = Q3 + 1.5 * IQR\n",
    "    df[col] = df[col].clip(lower, upper)"
   ]
  },
  {
   "cell_type": "code",
   "execution_count": 921,
   "id": "9b1fed4b",
   "metadata": {},
   "outputs": [],
   "source": [
    "# 클리핑 적용\n",
    "for col in ['기업가치_연차비', '매출_투자비', '팔로워_고객비']:\n",
    "    clip_outliers_iqr(train, col)\n",
    "for col in ['기업가치_연차비', '매출_투자비', '팔로워_고객비']:\n",
    "    clip_outliers_iqr(test, col)"
   ]
  },
  {
   "cell_type": "markdown",
   "id": "435e3b98",
   "metadata": {},
   "source": [
    "### 5. 인코딩\n",
    "- 변수 : 국가, 분야, 투자단계, 인수여부, 상장여부\n",
    "- One-Hot Encoding (카테고리가 적을 때)\n",
    "- Label Encoding (카테고리가 많거나 순서가 있을 때)"
   ]
  },
  {
   "cell_type": "code",
   "execution_count": 922,
   "id": "193269b7",
   "metadata": {},
   "outputs": [
    {
     "name": "stdout",
     "output_type": "stream",
     "text": [
      "'국가' 카테고리 수: 10\n",
      "→ 카테고리 목록: ['CT005' 'CT006' 'CT007' 'CT002' 'CT008' 'CT010' 'CT001' 'CT009' 'CT003'\n",
      " 'CT004']\n",
      "\n",
      "'분야' 카테고리 수: 11\n",
      "→ 카테고리 목록: ['이커머스' '핀테크' '기술' '기타' '에듀테크' '게임' '헬스케어' '물류' '푸드테크' 'AI' '에너지']\n",
      "\n",
      "'투자단계' 카테고리 수: 5\n",
      "→ 카테고리 목록: ['Series A' 'Seed' 'Series C' 'Series B' 'IPO']\n",
      "\n",
      "'인수여부' 카테고리 수: 2\n",
      "→ 카테고리 목록: ['No' 'Yes']\n",
      "\n",
      "'상장여부' 카테고리 수: 2\n",
      "→ 카테고리 목록: ['No' 'Yes']\n",
      "\n"
     ]
    }
   ],
   "source": [
    "# one-hot 인코딩을 쓸지 label 인코딩을 쓸지 카테고리 수 파악\n",
    "# 확인할 컬럼 리스트\n",
    "cat_cols = ['국가', '분야', '투자단계', '인수여부', '상장여부']\n",
    "\n",
    "# 각 컬럼의 카테고리 수 출력\n",
    "for col in cat_cols:\n",
    "    n_unique = train[col].nunique(dropna=True)\n",
    "    print(f\"'{col}' 카테고리 수: {n_unique}\")\n",
    "    print(f\"→ 카테고리 목록: {train[col].dropna().unique()}\\n\")"
   ]
  },
  {
   "cell_type": "code",
   "execution_count": 923,
   "id": "2fd223a9",
   "metadata": {},
   "outputs": [],
   "source": [
    "# 카테고리 수가 10개 이하이므로 one-hot 인코딩으로 선택\n",
    "train = pd.get_dummies(train, columns=cat_cols, drop_first=False, dtype=int)\n",
    "test = pd.get_dummies(test, columns=cat_cols, drop_first=False, dtype=int)\n",
    "# 컬럼 불일치 일시\n",
    "missing_cols = set(train.columns) - set(test.columns)\n",
    "missing_cols.discard('성공확률')  # test에 없는 타겟컬럼은 제외\n",
    "for col in missing_cols:\n",
    "    test[col] = 0"
   ]
  },
  {
   "cell_type": "markdown",
   "id": "11009abc",
   "metadata": {},
   "source": [
    "### 6. 스케일링\n",
    "- StandardScaler\t평균 0, 표준편차 1로 변환. 정규분포에 가까운 경우 적합.\n",
    "- MinMaxScaler\t0~1 범위로 정규화. 데이터 분포에 관계없이 모든 범위 고정. 이상치에 민감함.\n",
    "- RobustScaler\t중앙값(median)과 IQR(4분위 범위) 기준으로 스케일링. 이상치에 강함.\n",
    "- MaxAbsScaler\t절댓값 기준으로 -1~1로 조정. 희소행렬(sparse matrix) 에 적합."
   ]
  },
  {
   "cell_type": "code",
   "execution_count": 924,
   "id": "039e6a24",
   "metadata": {},
   "outputs": [],
   "source": [
    "# 스케일링 방식을 비교해봤을 때 스케일링 대상 컬럼들 간의 이상치 영향이 크지 않거나, 선형 회귀 모델에 미치는 영향이 제한적이라 판단\n",
    "# 이 경우 StandardScaler를 사용하는 것이 무난하다고 생각이 들어 StandardScaler 사용\n",
    "from sklearn.preprocessing import StandardScaler\n",
    "\n",
    "# 스케일링할 수치형 컬럼 리스트\n",
    "numeric_cols = ['직원 수', '고객수(백만명)', '총 투자금(억원)', \n",
    "                '연매출(억원)', 'SNS 팔로워 수(백만명)', '기업가치(백억원)', \n",
    "                '설립연차', '기업가치_연차비', '매출_투자비', '팔로워_고객비', '이익률', '매출_성장률', '총_자본_비율', '직원당_매출']\n",
    "\n",
    "# 스케일러 학습 및 변환\n",
    "scaler = StandardScaler()\n",
    "train[numeric_cols] = scaler.fit_transform(train[numeric_cols])\n",
    "\n",
    "# test 데이터도 동일한 스케일러로 변환\n",
    "test[numeric_cols] = scaler.transform(test[numeric_cols])"
   ]
  },
  {
   "cell_type": "code",
   "execution_count": 925,
   "id": "dad87b83",
   "metadata": {},
   "outputs": [
    {
     "name": "stdout",
     "output_type": "stream",
     "text": [
      "<class 'pandas.core.frame.DataFrame'>\n",
      "RangeIndex: 4376 entries, 0 to 4375\n",
      "Data columns (total 47 columns):\n",
      " #   Column          Non-Null Count  Dtype  \n",
      "---  ------          --------------  -----  \n",
      " 0   ID              4376 non-null   object \n",
      " 1   설립연도            4376 non-null   int64  \n",
      " 2   직원 수            4376 non-null   float64\n",
      " 3   고객수(백만명)        4376 non-null   float64\n",
      " 4   총 투자금(억원)       4376 non-null   float64\n",
      " 5   연매출(억원)         4376 non-null   float64\n",
      " 6   SNS 팔로워 수(백만명)  4376 non-null   float64\n",
      " 7   기업가치(백억원)       4376 non-null   float64\n",
      " 8   성공확률            4376 non-null   float64\n",
      " 9   설립연차            4376 non-null   float64\n",
      " 10  기업가치_연차비        4376 non-null   float64\n",
      " 11  매출_투자비          4376 non-null   float64\n",
      " 12  팔로워_고객비         4376 non-null   float64\n",
      " 13  이익률             4376 non-null   float64\n",
      " 14  매출_성장률          4376 non-null   float64\n",
      " 15  총_자본_비율         4376 non-null   float64\n",
      " 16  직원당_매출          4376 non-null   float64\n",
      " 17  국가_CT001        4376 non-null   int32  \n",
      " 18  국가_CT002        4376 non-null   int32  \n",
      " 19  국가_CT003        4376 non-null   int32  \n",
      " 20  국가_CT004        4376 non-null   int32  \n",
      " 21  국가_CT005        4376 non-null   int32  \n",
      " 22  국가_CT006        4376 non-null   int32  \n",
      " 23  국가_CT007        4376 non-null   int32  \n",
      " 24  국가_CT008        4376 non-null   int32  \n",
      " 25  국가_CT009        4376 non-null   int32  \n",
      " 26  국가_CT010        4376 non-null   int32  \n",
      " 27  분야_AI           4376 non-null   int32  \n",
      " 28  분야_게임           4376 non-null   int32  \n",
      " 29  분야_기술           4376 non-null   int32  \n",
      " 30  분야_기타           4376 non-null   int32  \n",
      " 31  분야_물류           4376 non-null   int32  \n",
      " 32  분야_에너지          4376 non-null   int32  \n",
      " 33  분야_에듀테크         4376 non-null   int32  \n",
      " 34  분야_이커머스         4376 non-null   int32  \n",
      " 35  분야_푸드테크         4376 non-null   int32  \n",
      " 36  분야_핀테크          4376 non-null   int32  \n",
      " 37  분야_헬스케어         4376 non-null   int32  \n",
      " 38  투자단계_IPO        4376 non-null   int32  \n",
      " 39  투자단계_Seed       4376 non-null   int32  \n",
      " 40  투자단계_Series A   4376 non-null   int32  \n",
      " 41  투자단계_Series B   4376 non-null   int32  \n",
      " 42  투자단계_Series C   4376 non-null   int32  \n",
      " 43  인수여부_No         4376 non-null   int32  \n",
      " 44  인수여부_Yes        4376 non-null   int32  \n",
      " 45  상장여부_No         4376 non-null   int32  \n",
      " 46  상장여부_Yes        4376 non-null   int32  \n",
      "dtypes: float64(15), int32(30), int64(1), object(1)\n",
      "memory usage: 1.1+ MB\n"
     ]
    }
   ],
   "source": [
    "train.info()"
   ]
  },
  {
   "cell_type": "markdown",
   "id": "aec4e2f0",
   "metadata": {},
   "source": [
    "### 7. 모델링"
   ]
  },
  {
   "cell_type": "code",
   "execution_count": 926,
   "id": "275363b7",
   "metadata": {},
   "outputs": [],
   "source": [
    "# target과 제외할 칼럼\n",
    "target_col = '성공확률'\n",
    "drop_cols = ['ID', '총_자본_비율', target_col]\n",
    "\n",
    "# 학습용 피처, 타겟 분리\n",
    "X = train.drop(columns=drop_cols)\n",
    "y = train[target_col]"
   ]
  },
  {
   "cell_type": "code",
   "execution_count": 927,
   "id": "d218007c",
   "metadata": {},
   "outputs": [],
   "source": [
    "from sklearn.model_selection import train_test_split\n",
    "# 훈련/검증 데이터 분할\n",
    "X_train, X_valid, y_train, y_valid = train_test_split(X, y, test_size=0.2, random_state=42)"
   ]
  },
  {
   "cell_type": "code",
   "execution_count": 928,
   "id": "4abacc21",
   "metadata": {},
   "outputs": [],
   "source": [
    "import numpy as np\n",
    "import pandas as pd\n",
    "from collections import Counter\n",
    "\n",
    "def calculate_weighted_mae(y_true, y_pred):\n",
    "    \"\"\"\n",
    "    Weighted MAE 계산 함수\n",
    "\n",
    "    Parameters:\n",
    "    - y_true: 실제값 (1D array 또는 Series)\n",
    "    - y_pred: 예측값 (1D array 또는 Series)\n",
    "\n",
    "    Returns:\n",
    "    - weighted_mae: 가중 평균 절대 오차\n",
    "    \"\"\"\n",
    "    # numpy array로 변환\n",
    "    y_true = np.array(y_true)\n",
    "    y_pred = np.array(y_pred)\n",
    "\n",
    "    # 1. 정답값의 빈도 기반 가중치 계산\n",
    "    freq = Counter(y_true)\n",
    "    weights = np.array([1 / freq[val] for val in y_true])  # 빈도 낮을수록 가중치 ↑\n",
    "\n",
    "    # 2. 가중 절대 오차 계산\n",
    "    abs_errors = np.abs(y_true - y_pred)\n",
    "    weighted_mae = np.sum(weights * abs_errors) / np.sum(weights)\n",
    "\n",
    "    return weighted_mae"
   ]
  },
  {
   "cell_type": "code",
   "execution_count": null,
   "id": "eca7fa91",
   "metadata": {},
   "outputs": [
    {
     "name": "stdout",
     "output_type": "stream",
     "text": [
      "[LightGBM] [Warning] Found whitespace in feature_names, replace with underlines\n",
      "[LightGBM] [Info] Auto-choosing col-wise multi-threading, the overhead of testing was 0.000325 seconds.\n",
      "You can set `force_col_wise=true` to remove the overhead.\n",
      "[LightGBM] [Info] Total Bins 2800\n",
      "[LightGBM] [Info] Number of data points in the train set: 3500, number of used features: 44\n",
      "[LightGBM] [Info] Start training from score 0.534486\n",
      "앙상블 모델 MAE: 0.2013\n",
      "Weighted MAE: 0.2086\n"
     ]
    }
   ],
   "source": [
    "from sklearn.ensemble import RandomForestRegressor\n",
    "from xgboost import XGBRegressor\n",
    "from lightgbm import LGBMRegressor\n",
    "from sklearn.metrics import mean_absolute_error\n",
    "\n",
    "# ▶ 모델 정의\n",
    "rf_model = RandomForestRegressor(\n",
    "    max_depth=None, \n",
    "    max_features='sqrt', \n",
    "    min_samples_leaf=2, \n",
    "    min_samples_split=5, \n",
    "    n_estimators=300,\n",
    "    random_state=42\n",
    ")\n",
    "xgb_model = XGBRegressor(n_estimators=100, random_state=42, verbosity=0)\n",
    "lgbm_model = LGBMRegressor(n_estimators=100, random_state=42)\n",
    "\n",
    "# ▶ 모델 학습\n",
    "rf_model.fit(X_train, y_train)\n",
    "xgb_model.fit(X_train, y_train)\n",
    "lgbm_model.fit(X_train, y_train)\n",
    "\n",
    "# ▶ 예측 (모든 모델)\n",
    "rf_pred = rf_model.predict(X_valid)\n",
    "xgb_pred = xgb_model.predict(X_valid)\n",
    "lgbm_pred = lgbm_model.predict(X_valid)\n",
    "\n",
    "# ▶ 앙상블 (단순 평균)\n",
    "ensemble_pred = (0.2 * rf_pred + 0.4 * xgb_pred + 0.4 * lgbm_pred)\n",
    "\n",
    "# ▶ 평가\n",
    "mae = mean_absolute_error(y_valid, ensemble_pred)\n",
    "\n",
    "print(\"앙상블 모델 MAE:\", round(mae, 4))\n",
    "\n",
    "# Weighted MAE\n",
    "wmae = calculate_weighted_mae(y_valid, ensemble_pred)\n",
    "print(\"Weighted MAE:\", round(wmae, 4))"
   ]
  },
  {
   "cell_type": "code",
   "execution_count": null,
   "id": "5cb4361f",
   "metadata": {},
   "outputs": [
    {
     "name": "stdout",
     "output_type": "stream",
     "text": [
      "[LightGBM] [Warning] Found whitespace in feature_names, replace with underlines\n",
      "[LightGBM] [Info] Auto-choosing col-wise multi-threading, the overhead of testing was 0.000211 seconds.\n",
      "You can set `force_col_wise=true` to remove the overhead.\n",
      "[LightGBM] [Info] Total Bins 2803\n",
      "[LightGBM] [Info] Number of data points in the train set: 4376, number of used features: 44\n",
      "[LightGBM] [Info] Start training from score 0.537340\n",
      "✅ 앙상블 예측 결과가 저장되었습니다: ensemble_submission.csv\n"
     ]
    }
   ],
   "source": [
    "# 앙상블 모델 정의 (튜닝된 RandomForest 포함)\n",
    "X_test = test.drop(columns=['ID', '총_자본_비율'])\n",
    "\n",
    "rf_model = RandomForestRegressor(\n",
    "    max_depth=None, \n",
    "    max_features='sqrt', \n",
    "    min_samples_leaf=2, \n",
    "    min_samples_split=5, \n",
    "    n_estimators=300,\n",
    "    random_state=42\n",
    ")\n",
    "xgb_model = XGBRegressor(n_estimators=100, random_state=42, verbosity=0)\n",
    "lgbm_model = LGBMRegressor(n_estimators=100, random_state=42)\n",
    "\n",
    "# 전체 학습 데이터로 학습\n",
    "rf_model.fit(X, y)\n",
    "xgb_model.fit(X, y)\n",
    "lgbm_model.fit(X, y)\n",
    "\n",
    "# 테스트 데이터 예측\n",
    "rf_pred_test = rf_model.predict(X_test)\n",
    "xgb_pred_test = xgb_model.predict(X_test)\n",
    "lgbm_pred_test = lgbm_model.predict(X_test)\n",
    "\n",
    "# 앙상블 (가중 평균)\n",
    "ensemble_pred_test = (0.2 * rf_pred_test + 0.4 * xgb_pred_test + 0.4 * lgbm_pred_test)\n",
    "\n",
    "# sample_submission 불러오기\n",
    "sample_submission = pd.read_csv('data/sample_submission.csv')\n",
    "sample_submission['성공확률'] = ensemble_pred_test\n",
    "\n",
    "# 저장\n",
    "sample_submission.to_csv('data/ensemble_submission.csv', index=False, encoding='utf-8-sig')\n",
    "print(\"✅ 앙상블 예측 결과가 저장되었습니다: ensemble_submission.csv\")"
   ]
  }
 ],
 "metadata": {
  "kernelspec": {
   "display_name": "Python 3",
   "language": "python",
   "name": "python3"
  },
  "language_info": {
   "codemirror_mode": {
    "name": "ipython",
    "version": 3
   },
   "file_extension": ".py",
   "mimetype": "text/x-python",
   "name": "python",
   "nbconvert_exporter": "python",
   "pygments_lexer": "ipython3",
   "version": "3.11.2"
  }
 },
 "nbformat": 4,
 "nbformat_minor": 5
}
